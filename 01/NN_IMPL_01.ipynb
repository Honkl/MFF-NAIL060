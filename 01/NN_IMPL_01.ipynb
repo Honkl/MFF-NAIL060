{
 "cells": [
  {
   "cell_type": "markdown",
   "metadata": {},
   "source": [
    "## Backpropagation implementation\n",
    "Implementation of BP algorithm floating somewhere at the internet."
   ]
  },
  {
   "cell_type": "code",
   "execution_count": 149,
   "metadata": {
    "collapsed": false
   },
   "outputs": [],
   "source": [
    "from __future__ import print_function\n",
    "from __future__ import division\n",
    "\n",
    "import numpy as np\n",
    "\n",
    "\n",
    "def sigmoid(x):\n",
    "    return 1.0/(1.0 + np.exp(-x)) # logsig\n",
    "\n",
    "def sigmoid_prime(x):\n",
    "    return sigmoid(x)*(1.0-sigmoid(x))\n",
    "\n",
    "def tanh(x):\n",
    "    return np.tanh(x)\n",
    "\n",
    "def tanh_prime(x):\n",
    "    return 1.0 - x**2\n",
    "\n",
    "def lin(x):\n",
    "    return x\n",
    "\n",
    "\n",
    "class NeuralNetwork:\n",
    "\n",
    "    def __init__(self, layers, activation='tanh'):\n",
    "        if activation == 'sigmoid':\n",
    "            self.activation = sigmoid\n",
    "            self.activation_prime = sigmoid_prime\n",
    "        elif activation == 'tanh':\n",
    "            self.activation = tanh\n",
    "            self.activation_prime = tanh_prime\n",
    "\n",
    "        # Set weights\n",
    "        self.weights = []\n",
    "        # layers = [2,2,1]\n",
    "        # range of weight values (-1,1)\n",
    "        # input and hidden layers - random((2+1, 2+1)) : 3 x 3\n",
    "        for i in range(1, len(layers) - 1):\n",
    "            r = 2*np.random.random((layers[i-1] + 1, layers[i] + 1)) -1\n",
    "            self.weights.append(r)\n",
    "        # output layer - random((2+1, 1)) : 3 x 1\n",
    "        r = 2*np.random.random( (layers[i] + 1, layers[i+1])) - 1\n",
    "        self.weights.append(r)\n",
    "\n",
    "    # fits the network using backpropagation algorthm\n",
    "    def fit(self, X, y, learning_rate=0.2, epochs=100000):\n",
    "        # Add column of ones to X\n",
    "        # This is to add the bias unit to the input layer\n",
    "        ones = np.atleast_2d(np.ones(X.shape[0]))\n",
    "        X = np.concatenate((ones.T, X), axis=1)\n",
    "         \n",
    "        for k in range(epochs):\n",
    "            #if k % 10000 == 0: print('epochs:', k)\n",
    "            \n",
    "            i = np.random.randint(X.shape[0])\n",
    "            a = [X[i]]\n",
    "\n",
    "            for l in range(len(self.weights)):\n",
    "                    dot_value = np.dot(a[l], self.weights[l])\n",
    "                    activation = self.activation(dot_value)\n",
    "                    a.append(activation)\n",
    "            # output layer\n",
    "            error = y[i] - a[-1]\n",
    "            deltas = [error * self.activation_prime(a[-1])]\n",
    "\n",
    "            # we need to begin at the second to last layer \n",
    "            # (a layer before the output layer)\n",
    "            for l in range(len(a) - 2, 0, -1): \n",
    "                deltas.append(deltas[-1].dot(self.weights[l].T)*self.activation_prime(a[l]))\n",
    "\n",
    "            # reverse\n",
    "            # [level3(output)->level2(hidden)]  => [level2(hidden)->level3(output)]\n",
    "            deltas.reverse()\n",
    "\n",
    "            # backpropagation\n",
    "            # 1. Multiply its output delta and input activation \n",
    "            #    to get the gradient of the weight.\n",
    "            # 2. Subtract a ratio (percentage) of the gradient from the weight.\n",
    "            for i in range(len(self.weights)):\n",
    "                layer = np.atleast_2d(a[i])\n",
    "                delta = np.atleast_2d(deltas[i])\n",
    "                self.weights[i] += learning_rate * layer.T.dot(delta)\n",
    "        \n",
    "        return self.weights\n",
    "\n",
    "    def predict(self, x): \n",
    "        a = np.concatenate((np.ones(1).T, np.array(x)), axis=0)      \n",
    "        for l in range(0, len(self.weights)):\n",
    "            a = self.activation(np.dot(a, self.weights[l]))\n",
    "        return a\n",
    "    \n",
    "#     def predict(self, x):\n",
    "#         x = np.array(x)\n",
    "#         temp = np.ones(x.shape[0]+1)\n",
    "#         temp[0:-1] = x\n",
    "#         a = temp\n",
    "#         for l in range(0, len(self.weights)):\n",
    "#             a = self.activation(np.dot(a, self.weights[l]))\n",
    "#         return a\n",
    "\n"
   ]
  },
  {
   "cell_type": "markdown",
   "metadata": {},
   "source": [
    "## Constants + data generation\n",
    " Constants used in computations, read files with train + test data. Generation of the rest train data. Word transformations (\"word\" => bin)."
   ]
  },
  {
   "cell_type": "code",
   "execution_count": 150,
   "metadata": {
    "collapsed": true
   },
   "outputs": [],
   "source": [
    "# Some basic constants...\n",
    "LETTERS = 25\n",
    "MAX_WORD_LENGHT = 5\n",
    "CHAR_BITS = 5 # Enough for 25 letters\n",
    "#input_size = MAX_WORD_LENGHT * (len(bin(LETTERS))-2)"
   ]
  },
  {
   "cell_type": "code",
   "execution_count": 151,
   "metadata": {
    "collapsed": true
   },
   "outputs": [],
   "source": [
    "def transform_word(word):\n",
    "    word = word.lower()\n",
    "    bin_word = ''.join([bin(ord(x)-ord('a'))[2:].zfill(CHAR_BITS) for x in word])\n",
    "    bin_word = bin_word + \"1\" * CHAR_BITS * (MAX_WORD_LENGHT - len(word))\n",
    "    return list(map(int, bin_word))\n",
    "\n",
    "def encode_unary(index, total_words):\n",
    "    zeros = [0] * total_words\n",
    "    zeros[index] = 1\n",
    "    return zeros"
   ]
  },
  {
   "cell_type": "code",
   "execution_count": 152,
   "metadata": {
    "collapsed": false
   },
   "outputs": [
    {
     "name": "stdout",
     "output_type": "stream",
     "text": [
      "[([0, 1, 0, 1, 1, 0, 1, 1, 1, 0, 1, 0, 0, 0, 1, 0, 0, 1, 0, 0, 0, 1, 1, 0, 0], [1, 0, 0, 0], 'lorem'), ([0, 1, 0, 0, 0, 0, 1, 1, 1, 1, 1, 0, 0, 1, 0, 1, 0, 1, 0, 0, 0, 1, 1, 0, 0], [0, 1, 0, 0], 'ipsum'), ([0, 0, 1, 0, 0, 1, 0, 0, 1, 1, 1, 1, 1, 1, 1, 1, 1, 1, 1, 1, 1, 1, 1, 1, 1], [0, 0, 1, 0], 'et'), ([0, 1, 1, 0, 1, 1, 0, 1, 0, 0, 0, 1, 0, 1, 1, 0, 1, 0, 1, 1, 0, 0, 0, 0, 0], [0, 0, 0, 1], 'nulla')]\n"
     ]
    }
   ],
   "source": [
    "f = \"table.txt\"\n",
    "with open (f, \"r\") as file:\n",
    "    raw_data = file.read().strip().split()\n",
    "\n",
    "data = []\n",
    "for word in raw_data:\n",
    "    if (len(word) <= MAX_WORD_LENGHT and word not in data):\n",
    "        data.append(word.lower())\n",
    "\n",
    "table = [(transform_word(data[index]), encode_unary(index, len(data)), data[index]) for index in range(len(data))]\n",
    "output_size = len(table)\n",
    "print(table)\n"
   ]
  },
  {
   "cell_type": "code",
   "execution_count": 153,
   "metadata": {
    "collapsed": true
   },
   "outputs": [],
   "source": [
    "input_size = MAX_WORD_LENGHT * CHAR_BITS\n",
    "hidden_sizes = [10]\n",
    "layers = [input_size] + hidden_sizes + [output_size]"
   ]
  },
  {
   "cell_type": "code",
   "execution_count": 154,
   "metadata": {
    "collapsed": false
   },
   "outputs": [],
   "source": [
    "import string\n",
    "\n",
    "def modify_word_random(word_to_modif):\n",
    "    letter = np.random.choice(list(string.ascii_lowercase))\n",
    "    word = list(word_to_modif)\n",
    "    word[np.random.randint(len(word_to_modif))] = letter\n",
    "    return ''.join(word)\n",
    "    \n",
    "def gen_word(similar_prob):\n",
    "    if (np.random.uniform(0, 1) < similar_prob):\n",
    "        index = np.random.randint(len(table))\n",
    "        table_word = table[index][2]\n",
    "        return transform_word(modify_word_random(table_word))\n",
    "    else:\n",
    "        return [np.random.randint(2) for _ in range(input_size)]\n",
    "\n",
    "def generate_words(set_size, good_word_prob, similar_bad_word_prob=0.5):\n",
    "    X = np.array([table[0][0]])\n",
    "    y = np.array([table[0][1]])\n",
    "    for _ in range(set_size - 1):\n",
    "        if np.random.uniform(0, 1) < good_word_prob:\n",
    "            index = np.random.randint(len(table))\n",
    "            X = np.concatenate((X, [table[index][0]]))\n",
    "            y = np.concatenate((y, [table[index][1]]))\n",
    "        else:\n",
    "            found = False\n",
    "            while not found:\n",
    "                found = True\n",
    "                bad_word = gen_word(similar_bad_word_prob)\n",
    "                if (bad_word in [x for (x, y, z) in table]):\n",
    "                    found = False\n",
    "                    continue\n",
    "                if found:\n",
    "                    X = np.concatenate((X, [bad_word]))\n",
    "                    y = np.concatenate((y, [[0] * output_size]))\n",
    "    return X, y"
   ]
  },
  {
   "cell_type": "code",
   "execution_count": 155,
   "metadata": {
    "collapsed": false
   },
   "outputs": [],
   "source": [
    "train_x, train_y = generate_words(set_size=50000, good_word_prob=0.5, similar_bad_word_prob=0.7)\n",
    "\n",
    "train_x_good = []\n",
    "train_y_good = []\n",
    "train_x_bad = []\n",
    "train_y_bad = []\n",
    "for x, y in zip(train_x, train_y):\n",
    "    if (1 in y):\n",
    "        train_x_good.append(x)\n",
    "        train_y_good.append(y)\n",
    "    else:\n",
    "        train_x_bad.append(x)\n",
    "        train_y_bad.append(y)\n",
    "        \n",
    "train_x_good = np.array(train_x_good)\n",
    "train_y_good = np.array(train_y_good)\n",
    "train_x_bad = np.array(train_x_bad)\n",
    "train_y_bad = np.array(train_y_bad)"
   ]
  },
  {
   "cell_type": "code",
   "execution_count": 156,
   "metadata": {
    "collapsed": false
   },
   "outputs": [],
   "source": [
    "test_words_x, test_words_y = generate_words(set_size=50000, good_word_prob=0.0, similar_bad_word_prob=0.5)"
   ]
  },
  {
   "cell_type": "code",
   "execution_count": 157,
   "metadata": {
    "collapsed": false
   },
   "outputs": [],
   "source": [
    "f = \"data.txt\"\n",
    "with open (f, \"r\") as file:\n",
    "    raw_data = file.read().strip().split()\n",
    "\n",
    "escape_chars = [\".\", \",\", \"!\", \"?\", \";\"]\n",
    "    \n",
    "data = []\n",
    "for word in raw_data:\n",
    "    if (len(word) <= MAX_WORD_LENGHT):\n",
    "        w = word\n",
    "        for i in range(len(escape_chars)):\n",
    "            w = w.replace(escape_chars[i], \"\")\n",
    "\n",
    "        if (w.isalpha):\n",
    "            data.append(w.lower())\n",
    "        \n",
    "\n",
    "test_x = np.array([transform_word(w) for w in data])\n",
    "test_y = np.array([[0] * len(table) for _ in range(len(test_x))])\n",
    "test_z = np.array(data)\n",
    "\n",
    "for i in range(len(test_x)):\n",
    "    for j in range(len(table)):\n",
    "        if (np.array_equal(table[j][0], test_x[i])):\n",
    "            test_y[i] = table[j][1]\n",
    "            "
   ]
  },
  {
   "cell_type": "markdown",
   "metadata": {},
   "source": [
    "## Learning v1\n",
    "Using backprop \"hand\" implementation"
   ]
  },
  {
   "cell_type": "code",
   "execution_count": 158,
   "metadata": {
    "collapsed": false
   },
   "outputs": [
    {
     "name": "stdout",
     "output_type": "stream",
     "text": [
      "Fit complete\n"
     ]
    }
   ],
   "source": [
    "net = NeuralNetwork(layers, activation='tanh')\n",
    "_ = net.fit(train_x, train_y, epochs=100000)\n",
    "print(\"Fit complete\")"
   ]
  },
  {
   "cell_type": "code",
   "execution_count": 159,
   "metadata": {
    "collapsed": false
   },
   "outputs": [
    {
     "name": "stdout",
     "output_type": "stream",
     "text": [
      " word       --     word binary representation    --    desired output   --   real output\n",
      "========================================================================================\n",
      "lorem [0 1 0 1 1 0 1 1 1 0 1 0 0 0 1 0 0 1 0 0 0 1 1 0 0] [1 0 0 0] [0.98, 0.03, 0.018, 0.054]\n",
      "ipsum [0 1 0 0 0 0 1 1 1 1 1 0 0 1 0 1 0 1 0 0 0 1 1 0 0] [0 1 0 0] [0.007, 0.97, 0.017, 0.043]\n",
      "dolor [0 0 0 1 1 0 1 1 1 0 0 1 0 1 1 0 1 1 1 0 1 0 0 0 1] [0 0 0 0] [0.005, 0.008, -0.004, 0.042]\n",
      "  sit [1 0 0 1 0 0 1 0 0 0 1 0 0 1 1 1 1 1 1 1 1 1 1 1 1] [0 0 0 0] [0.013, 0.012, 0.019, 0.071]\n",
      " amet [0 0 0 0 0 0 1 1 0 0 0 0 1 0 0 1 0 0 1 1 1 1 1 1 1] [0 0 0 0] [0.014, 0.021, 0.026, 0.054]\n",
      " elit [0 0 1 0 0 0 1 0 1 1 0 1 0 0 0 1 0 0 1 1 1 1 1 1 1] [0 0 0 0] [0.011, 0.019, 0.014, 0.035]\n",
      "  sed [1 0 0 1 0 0 0 1 0 0 0 0 0 1 1 1 1 1 1 1 1 1 1 1 1] [0 0 0 0] [0.014, 0.017, 0.03, 0.065]\n",
      "  vel [1 0 1 0 1 0 0 1 0 0 0 1 0 1 1 1 1 1 1 1 1 1 1 1 1] [0 0 0 0] [0.014, 0.015, -0.201, 0.298]\n",
      "donec [0 0 0 1 1 0 1 1 1 0 0 1 1 0 1 0 0 1 0 0 0 0 0 1 0] [0 0 0 0] [-0.05, 0.002, 0.016, 0.04]\n",
      " odio [0 1 1 1 0 0 0 0 1 1 0 1 0 0 0 0 1 1 1 0 1 1 1 1 1] [0 0 0 0] [0.013, 0.018, 0.014, 0.05]\n"
     ]
    }
   ],
   "source": [
    "def pretty_print(x, y, predicted_y, z):\n",
    "    print(z.rjust(MAX_WORD_LENGHT), x, y, [float(\"%.3f\" % value) for value in predicted_y])\n",
    "\n",
    "# success of the net using MSE\n",
    "def success(pred, test_y):\n",
    "    MSE = 0\n",
    "    for (x, y) in zip(pred, test_y):\n",
    "        MSE += sum((x - y) ** 2)\n",
    "    return 1 - (MSE / (len(pred) * output_size))\n",
    "    \n",
    "    \n",
    "print(\" word       --     word binary representation    --    desired output   --   real output\")\n",
    "print(\"========================================================================================\")\n",
    "show_max = 10\n",
    "count = 0\n",
    "for (x, y, z) in zip(test_x, test_y, test_z):\n",
    "    pretty_print(x, y, net.predict(x), z)\n",
    "    count += 1\n",
    "    if (show_max == count):\n",
    "        break\n",
    "    \n",
    "#s = success(test_x, test_y)\n",
    "#print(\"Succ: \", s)\n",
    "#print(\"Err:  \", 1 - s)\n"
   ]
  },
  {
   "cell_type": "markdown",
   "metadata": {},
   "source": [
    "## Learning v2\n",
    "Using scikit-learn MLPClassifier"
   ]
  },
  {
   "cell_type": "code",
   "execution_count": 160,
   "metadata": {
    "collapsed": false
   },
   "outputs": [],
   "source": [
    "import matplotlib.pyplot as plt\n",
    "%matplotlib inline"
   ]
  },
  {
   "cell_type": "code",
   "execution_count": 161,
   "metadata": {
    "collapsed": false
   },
   "outputs": [],
   "source": [
    "tolerance = 0.2\n",
    "\n",
    "def round_prediction(y):\n",
    "    result = []\n",
    "    for i in range(len(y)):\n",
    "        if (y[i] - tolerance <= 0):\n",
    "            result.append(0)\n",
    "        elif (y[i] + tolerance >= 1):\n",
    "            result.append(1)\n",
    "        else:\n",
    "            return np.zeros(len(y))\n",
    "    return result\n",
    "\n",
    "def get_rounded_predictions(predictions):\n",
    "    rounded_predictions = np.copy(predictions)\n",
    "    for i in range(len(predictions)):\n",
    "        rounded_predictions[i] = round_prediction(predictions[i])\n",
    "    return rounded_predictions\n",
    "\n",
    "def get_model_score(model, test_x, test_y):\n",
    "    pred = get_rounded_predictions(model.predict_proba(test_x))\n",
    "    return success(pred, test_y)   \n"
   ]
  },
  {
   "cell_type": "code",
   "execution_count": 168,
   "metadata": {
    "collapsed": false,
    "scrolled": false
   },
   "outputs": [
    {
     "name": "stderr",
     "output_type": "stream",
     "text": [
      "C:\\Anaconda2\\envs\\py3k\\lib\\site-packages\\sklearn\\neural_network\\multilayer_perceptron.py:563: ConvergenceWarning: Stochastic Optimizer: Maximum iterations reached and the optimization hasn't converged yet.\n",
      "  % (), ConvergenceWarning)\n"
     ]
    },
    {
     "name": "stdout",
     "output_type": "stream",
     "text": [
      "Total iterations:  22\n",
      "Score:  0.983889719316\n",
      "Score next:  0.99958\n",
      "Score with 0.2 tolerance:  0.99995\n"
     ]
    },
    {
     "data": {
      "image/png": "[encoded data removed]",
      "text/plain": [
       "<matplotlib.figure.Figure at 0x1ed865a3208>"
      ]
     },
     "metadata": {},
     "output_type": "display_data"
    }
   ],
   "source": [
    "from sklearn import neural_network as nn\n",
    "clf = nn.MLPClassifier(hidden_layer_sizes=(16, ),\n",
    "                       activation='relu',\n",
    "                       solver='adam',\n",
    "                       alpha=0.0001,\n",
    "                       shuffle=True,\n",
    "                       verbose=False,\n",
    "                       warm_start=True,\n",
    "                       tol=0.00001,\n",
    "                       max_iter=1,\n",
    "                       learning_rate='constant',\n",
    "                       learning_rate_init=0.001)\n",
    "\n",
    "scores_good = []\n",
    "scores_bad = []\n",
    "for iteration in range(200):\n",
    "    model = clf.fit(train_x, train_y)\n",
    "    scores_good.append(1 - model.score(train_x_good, train_y_good))\n",
    "    score = 1 - model.score(train_x_bad, train_y_bad)\n",
    "    scores_bad.append(score)\n",
    "    if score == 0:\n",
    "        print(\"Total iterations: \", iteration)\n",
    "        break\n",
    "        \n",
    "print(\"Score: \", model.score(test_x, test_y))   \n",
    "print(\"Score next: \", model.score(test_words_x, test_words_y))\n",
    "print(\"Score with 0.2 tolerance: \", get_model_score(model, test_words_x, test_words_y))\n",
    "\n",
    "plt.figure(figsize=(16,8))\n",
    "plt.subplot(1,2,1)\n",
    "#plt.semilogx(scores_good)\n",
    "plt.plot(scores_good, linewidth=5)\n",
    "plt.ylabel(\"Loss\")\n",
    "plt.xlabel(\"Iteration\")\n",
    "plt.title('Positive words')\n",
    "plt.subplot(1,2,2)\n",
    "#plt.semilogx(scores_bad)\n",
    "plt.plot(scores_bad, linewidth=5)\n",
    "plt.ylabel(\"Loss\")\n",
    "plt.xlabel(\"Iteration\")\n",
    "plt.title('Negative words')\n",
    "plt.show()\n",
    "\n",
    "predictions = model.predict_proba(test_x)\n"
   ]
  },
  {
   "cell_type": "markdown",
   "metadata": {},
   "source": [
    "## Some other results..."
   ]
  },
  {
   "cell_type": "code",
   "execution_count": 163,
   "metadata": {
    "collapsed": false
   },
   "outputs": [
    {
     "name": "stdout",
     "output_type": "stream",
     "text": [
      "Score on table words:  1.0\n"
     ]
    }
   ],
   "source": [
    "table_test_x = []\n",
    "table_test_y = []\n",
    "for i in range(len(table)):\n",
    "    table_test_x.append(table[i][0])\n",
    "    table_test_y.append(table[i][1])\n",
    "    \n",
    "table_test_x = np.array(table_test_x)\n",
    "table_test_y = np.array(table_test_y)\n",
    "\n",
    "print(\"Score on table words: \", model.score(table_test_x, table_test_y))"
   ]
  },
  {
   "cell_type": "code",
   "execution_count": 164,
   "metadata": {
    "collapsed": false,
    "scrolled": true
   },
   "outputs": [
    {
     "name": "stdout",
     "output_type": "stream",
     "text": [
      " WORD  ->  PREDICTED\n",
      "====================\n"
     ]
    }
   ],
   "source": [
    "print(\" WORD  ->  PREDICTED\")\n",
    "print(\"====================\")\n",
    "\n",
    "rounded_predictions = get_rounded_predictions(predictions)\n",
    "mistakes = []\n",
    "printed = 0\n",
    "for i in range(len(test_x)):\n",
    "    if not np.array_equal(rounded_predictions[i], test_y[i]):\n",
    "        for j in range(len(table)):\n",
    "            predicted_word = \"\"\n",
    "            if (np.array_equal(table[j][1], rounded_predictions[i])):\n",
    "                predicted_word = table[j][2]\n",
    "                break\n",
    "        #print(test_y[i], predictions[i])\n",
    "        mistakes.append([test_z[i].rjust(MAX_WORD_LENGHT),\n",
    "                         \" -> \",\n",
    "                         predicted_word,\n",
    "                         \"  \",\n",
    "                         test_y[i],\n",
    "                         \" -> \",\n",
    "                         [float(\"%.3f\" % value) for value in predictions[i]]])\n",
    "\n",
    "unique = []\n",
    "for line in mistakes:\n",
    "    line_str = ''.join([str(x) for x in line])\n",
    "    if not line_str in unique:\n",
    "        unique.append(line_str)\n",
    "        print(line_str)"
   ]
  },
  {
   "cell_type": "code",
   "execution_count": 165,
   "metadata": {
    "collapsed": false
   },
   "outputs": [
    {
     "data": {
      "image/png": "[encoded data removed]",
      "text/plain": [
       "<matplotlib.figure.Figure at 0x1ed87073a20>"
      ]
     },
     "metadata": {},
     "output_type": "display_data"
    }
   ],
   "source": [
    "plt.plot(model.loss_curve_, linewidth=5)\n",
    "plt.title(\"Loss\")\n",
    "plt.show()"
   ]
  },
  {
   "cell_type": "code",
   "execution_count": null,
   "metadata": {
    "collapsed": true
   },
   "outputs": [],
   "source": []
  },
  {
   "cell_type": "code",
   "execution_count": null,
   "metadata": {
    "collapsed": false
   },
   "outputs": [],
   "source": []
  },
  {
   "cell_type": "code",
   "execution_count": null,
   "metadata": {
    "collapsed": true
   },
   "outputs": [],
   "source": []
  },
  {
   "cell_type": "code",
   "execution_count": null,
   "metadata": {
    "collapsed": true
   },
   "outputs": [],
   "source": []
  },
  {
   "cell_type": "code",
   "execution_count": null,
   "metadata": {
    "collapsed": true
   },
   "outputs": [],
   "source": []
  },
  {
   "cell_type": "code",
   "execution_count": null,
   "metadata": {
    "collapsed": true
   },
   "outputs": [],
   "source": []
  }
 ],
 "metadata": {
  "kernelspec": {
   "display_name": "Python 3",
   "language": "python",
   "name": "python3"
  },
  "language_info": {
   "codemirror_mode": {
    "name": "ipython",
    "version": 3
   },
   "file_extension": ".py",
   "mimetype": "text/x-python",
   "name": "python",
   "nbconvert_exporter": "python",
   "pygments_lexer": "ipython3",
   "version": "3.5.1"
  }
 },
 "nbformat": 4,
 "nbformat_minor": 0
}
