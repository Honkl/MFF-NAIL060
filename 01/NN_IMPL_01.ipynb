{
 "cells": [
  {
   "cell_type": "markdown",
   "metadata": {},
   "source": [
    "## Backpropagtion implementation"
   ]
  },
  {
   "cell_type": "code",
   "execution_count": 63,
   "metadata": {
    "collapsed": false
   },
   "outputs": [],
   "source": [
    "import numpy as np\n",
    "\n",
    "def sigmoid(x):\n",
    "    return 1.0/(1.0 + np.exp(-x)) # logsig\n",
    "\n",
    "def sigmoid_prime(x):\n",
    "    return sigmoid(x)*(1.0-sigmoid(x))\n",
    "\n",
    "def tanh(x):\n",
    "    return np.tanh(x)\n",
    "\n",
    "def tanh_prime(x):\n",
    "    return 1.0 - x**2\n",
    "\n",
    "def lin(x):\n",
    "    return x\n",
    "\n",
    "\n",
    "class NeuralNetwork:\n",
    "\n",
    "    def __init__(self, layers, activation='tanh'):\n",
    "        if activation == 'sigmoid':\n",
    "            self.activation = sigmoid\n",
    "            self.activation_prime = sigmoid_prime\n",
    "        elif activation == 'tanh':\n",
    "            self.activation = tanh\n",
    "            self.activation_prime = tanh_prime\n",
    "\n",
    "        # Set weights\n",
    "        self.weights = []\n",
    "        # layers = [2,2,1]\n",
    "        # range of weight values (-1,1)\n",
    "        # input and hidden layers - random((2+1, 2+1)) : 3 x 3\n",
    "        for i in range(1, len(layers) - 1):\n",
    "            r = 2*np.random.random((layers[i-1] + 1, layers[i] + 1)) -1\n",
    "            self.weights.append(r)\n",
    "        # output layer - random((2+1, 1)) : 3 x 1\n",
    "        r = 2*np.random.random( (layers[i] + 1, layers[i+1])) - 1\n",
    "        self.weights.append(r)\n",
    "\n",
    "    # fits the network using backpropagation algorthm\n",
    "    def fit(self, X, y, learning_rate=0.2, epochs=100000):\n",
    "        # Add column of ones to X\n",
    "        # This is to add the bias unit to the input layer\n",
    "        ones = np.atleast_2d(np.ones(X.shape[0]))\n",
    "        X = np.concatenate((ones.T, X), axis=1)\n",
    "         \n",
    "        for k in range(epochs):\n",
    "            #if k % 10000 == 0: print('epochs:', k)\n",
    "            \n",
    "            i = np.random.randint(X.shape[0])\n",
    "            a = [X[i]]\n",
    "\n",
    "            for l in range(len(self.weights)):\n",
    "                    dot_value = np.dot(a[l], self.weights[l])\n",
    "                    activation = self.activation(dot_value)\n",
    "                    a.append(activation)\n",
    "            # output layer\n",
    "            error = y[i] - a[-1]\n",
    "            deltas = [error * self.activation_prime(a[-1])]\n",
    "\n",
    "            # we need to begin at the second to last layer \n",
    "            # (a layer before the output layer)\n",
    "            for l in range(len(a) - 2, 0, -1): \n",
    "                deltas.append(deltas[-1].dot(self.weights[l].T)*self.activation_prime(a[l]))\n",
    "\n",
    "            # reverse\n",
    "            # [level3(output)->level2(hidden)]  => [level2(hidden)->level3(output)]\n",
    "            deltas.reverse()\n",
    "\n",
    "            # backpropagation\n",
    "            # 1. Multiply its output delta and input activation \n",
    "            #    to get the gradient of the weight.\n",
    "            # 2. Subtract a ratio (percentage) of the gradient from the weight.\n",
    "            for i in range(len(self.weights)):\n",
    "                layer = np.atleast_2d(a[i])\n",
    "                delta = np.atleast_2d(deltas[i])\n",
    "                self.weights[i] += learning_rate * layer.T.dot(delta)\n",
    "        \n",
    "        return self.weights\n",
    "\n",
    "    def predict(self, x): \n",
    "        a = np.concatenate((np.ones(1).T, np.array(x)), axis=0)      \n",
    "        for l in range(0, len(self.weights)):\n",
    "            a = self.activation(np.dot(a, self.weights[l]))\n",
    "        return a\n",
    "    \n",
    "#     def predict(self, x):\n",
    "#         x = np.array(x)\n",
    "#         temp = np.ones(x.shape[0]+1)\n",
    "#         temp[0:-1] = x\n",
    "#         a = temp\n",
    "#         for l in range(0, len(self.weights)):\n",
    "#             a = self.activation(np.dot(a, self.weights[l]))\n",
    "#         return a\n",
    "\n"
   ]
  },
  {
   "cell_type": "markdown",
   "metadata": {},
   "source": [
    "## Constants + data generation\n",
    " Constants used in computations, read files with train + test data. Generation of the rest train data. Word transformations (\"word\" => bin)."
   ]
  },
  {
   "cell_type": "code",
   "execution_count": 64,
   "metadata": {
    "collapsed": true
   },
   "outputs": [],
   "source": [
    "# Some basic constants...\n",
    "LETTERS = 25\n",
    "MAX_WORD_LENGHT = 5\n",
    "CHAR_BITS = 5 # Enough for 25 letters\n",
    "#input_size = MAX_WORD_LENGHT * (len(bin(LETTERS))-2)"
   ]
  },
  {
   "cell_type": "code",
   "execution_count": 65,
   "metadata": {
    "collapsed": true
   },
   "outputs": [],
   "source": [
    "def transform_word(word):\n",
    "    word = word.lower()\n",
    "    bin_word = ''.join([bin(ord(x)-ord('a'))[2:].zfill(CHAR_BITS) for x in word])\n",
    "    bin_word = bin_word + \"1\" * CHAR_BITS * (MAX_WORD_LENGHT - len(word))\n",
    "    return list(map(int, bin_word))\n",
    "\n",
    "def encode_unary(index, total_words):\n",
    "    zeros = [0] * total_words\n",
    "    zeros[index] = 1\n",
    "    return zeros"
   ]
  },
  {
   "cell_type": "code",
   "execution_count": 66,
   "metadata": {
    "collapsed": false
   },
   "outputs": [
    {
     "name": "stdout",
     "output_type": "stream",
     "text": [
      "[([0, 1, 0, 1, 1, 0, 1, 1, 1, 0, 1, 0, 0, 0, 1, 0, 0, 1, 0, 0, 0, 1, 1, 0, 0], [1, 0, 0, 0], 'lorem'), ([0, 1, 0, 0, 0, 0, 1, 1, 1, 1, 1, 0, 0, 1, 0, 1, 0, 1, 0, 0, 0, 1, 1, 0, 0], [0, 1, 0, 0], 'ipsum'), ([0, 0, 1, 0, 0, 1, 0, 0, 1, 0, 1, 1, 1, 1, 1, 1, 1, 1, 1, 1, 1, 1, 1, 1, 1], [0, 0, 1, 0], 'es'), ([0, 0, 1, 0, 0, 1, 0, 0, 1, 1, 1, 1, 1, 1, 1, 1, 1, 1, 1, 1, 1, 1, 1, 1, 1], [0, 0, 0, 1], 'et')]\n"
     ]
    }
   ],
   "source": [
    "f = \"table.txt\"\n",
    "with open (f, \"r\") as file:\n",
    "    raw_data = file.read().strip().split()\n",
    "\n",
    "data = []\n",
    "for word in raw_data:\n",
    "    if (len(word) <= MAX_WORD_LENGHT and word not in data):\n",
    "        data.append(word.lower())\n",
    "\n",
    "table = [(transform_word(data[index]), encode_unary(index, len(data)), data[index]) for index in range(len(data))]\n",
    "output_size = len(table)\n",
    "print(table)\n"
   ]
  },
  {
   "cell_type": "code",
   "execution_count": 67,
   "metadata": {
    "collapsed": true
   },
   "outputs": [],
   "source": [
    "input_size = MAX_WORD_LENGHT * CHAR_BITS\n",
    "hidden_sizes = [10]\n",
    "layers = [input_size] + hidden_sizes + [output_size]"
   ]
  },
  {
   "cell_type": "code",
   "execution_count": 68,
   "metadata": {
    "collapsed": false
   },
   "outputs": [],
   "source": [
    "import string\n",
    "\n",
    "def modify_word_random(word_to_modif):\n",
    "    letter = np.random.choice(list(string.ascii_lowercase))\n",
    "    word = list(word_to_modif)\n",
    "    word[np.random.randint(len(word_to_modif))] = letter\n",
    "    return ''.join(word)\n",
    "    \n",
    "def gen_word(similar_prob):\n",
    "    if (np.random.uniform(0, 1) < similar_prob):\n",
    "        index = np.random.randint(len(table))\n",
    "        table_word = table[index][2]\n",
    "        return transform_word(modify_word_random(table_word))\n",
    "    else:\n",
    "        return [np.random.randint(2) for _ in range(input_size)]\n",
    "\n",
    "def generate_words(set_size, good_word_prob, similar_bad_word_prob=0.5):\n",
    "    X = np.array([table[0][0]])\n",
    "    y = np.array([table[0][1]])\n",
    "    for _ in range(set_size - 1):\n",
    "        if np.random.uniform(0, 1) < good_word_prob:\n",
    "            index = np.random.randint(len(table))\n",
    "            X = np.concatenate((X, [table[index][0]]))\n",
    "            y = np.concatenate((y, [table[index][1]]))\n",
    "        else:\n",
    "            found = False\n",
    "            while not found:\n",
    "                found = True\n",
    "                bad_word = gen_word(similar_bad_word_prob)\n",
    "                if (bad_word in [x for (x, y, z) in table]):\n",
    "                    found = False\n",
    "                    break\n",
    "                if found:\n",
    "                    X = np.concatenate((X, [bad_word]))\n",
    "                    y = np.concatenate((y, [[0] * output_size]))\n",
    "    return X, y"
   ]
  },
  {
   "cell_type": "code",
   "execution_count": 69,
   "metadata": {
    "collapsed": false
   },
   "outputs": [],
   "source": [
    "train_x, train_y = generate_words(set_size=50000, good_word_prob=0.5, similar_bad_word_prob=0.5)"
   ]
  },
  {
   "cell_type": "code",
   "execution_count": 70,
   "metadata": {
    "collapsed": false
   },
   "outputs": [],
   "source": [
    "f = \"data.txt\"\n",
    "with open (f, \"r\") as file:\n",
    "    raw_data = file.read().strip().split()\n",
    "\n",
    "escape_chars = [\".\", \",\", \"!\", \"?\", \";\"]\n",
    "    \n",
    "data = []\n",
    "for word in raw_data:\n",
    "    if (len(word) <= MAX_WORD_LENGHT):\n",
    "        w = word\n",
    "        for i in range(len(escape_chars)):\n",
    "            w = w.replace(escape_chars[i], \"\")\n",
    "\n",
    "        if (w.isalpha):\n",
    "            data.append(w.lower())\n",
    "        \n",
    "\n",
    "test_x = np.array([transform_word(w) for w in data])\n",
    "test_y = np.array([[0] * len(table) for _ in range(len(test_x))])\n",
    "test_z = np.array(data)\n",
    "\n",
    "for i in range(len(test_x)):\n",
    "    for j in range(len(table)):\n",
    "        if (np.array_equal(table[j][0], test_x[i])):\n",
    "            test_y[i] = table[j][1]\n",
    "\n"
   ]
  },
  {
   "cell_type": "markdown",
   "metadata": {},
   "source": [
    "## Learning v1\n",
    "Using backprop \"hand\" implementation"
   ]
  },
  {
   "cell_type": "code",
   "execution_count": 71,
   "metadata": {
    "collapsed": false
   },
   "outputs": [
    {
     "name": "stdout",
     "output_type": "stream",
     "text": [
      "Fit complete\n"
     ]
    }
   ],
   "source": [
    "net = NeuralNetwork(layers, activation='tanh')\n",
    "_ = net.fit(train_x, train_y, epochs=100000)\n",
    "print(\"Fit complete\")"
   ]
  },
  {
   "cell_type": "code",
   "execution_count": 72,
   "metadata": {
    "collapsed": false
   },
   "outputs": [
    {
     "name": "stdout",
     "output_type": "stream",
     "text": [
      "[0 1 0 1 1 0 1 1 1 0 1 0 0 0 1 0 0 1 0 0 0 1 1 0 0] [1 0 0 0] [0.965, 0.01, 0.008, 0.016]\n",
      "[0 1 0 0 0 0 1 1 1 1 1 0 0 1 0 1 0 1 0 0 0 1 1 0 0] [0 1 0 0] [0.008, 0.98, 0.009, 0.016]\n",
      "[0 0 0 1 1 0 1 1 1 0 0 1 0 1 1 0 1 1 1 0 1 0 0 0 1] [0 0 0 0] [0.013, 0.014, 0.005, 0.018]\n",
      "[1 0 0 1 0 0 1 0 0 0 1 0 0 1 1 1 1 1 1 1 1 1 1 1 1] [0 0 0 0] [0.014, 0.013, 0.006, 0.018]\n",
      "[0 0 0 0 0 0 1 1 0 0 0 0 1 0 0 1 0 0 1 1 1 1 1 1 1] [0 0 0 0] [0.005, -0.004, 0.014, 0.015]\n",
      "[0 0 1 0 0 0 1 0 1 1 0 1 0 0 0 1 0 0 1 1 1 1 1 1 1] [0 0 0 0] [0.001, -0.001, 0.014, 0.015]\n",
      "[1 0 0 1 0 0 0 1 0 0 0 0 0 1 1 1 1 1 1 1 1 1 1 1 1] [0 0 0 0] [0.016, 0.015, 0.004, 0.017]\n",
      "[1 0 1 0 1 0 0 1 0 0 0 1 0 1 1 1 1 1 1 1 1 1 1 1 1] [0 0 0 0] [0.026, 0.014, 0.0, 0.019]\n",
      "[0 0 0 1 1 0 1 1 1 0 0 1 1 0 1 0 0 1 0 0 0 0 0 1 0] [0 0 0 0] [0.023, 0.009, 0.005, 0.028]\n",
      "[0 1 1 1 0 0 0 0 1 1 0 1 0 0 0 0 1 1 1 0 1 1 1 1 1] [0 0 0 0] [0.01, 0.012, 0.004, 0.011]\n",
      "Succ:  0.989413409302\n",
      "Err:   0.0105865906985\n"
     ]
    }
   ],
   "source": [
    "def pretty_print(x, y, predicted_y):\n",
    "    print(x, y, [float(\"%.3f\" % value) for value in predicted_y])\n",
    "\n",
    "# success of the net using MSE\n",
    "def success(test_x, test_y):\n",
    "    MSE = 0\n",
    "    for (x, y) in zip(test_x, test_y):\n",
    "        prediction = net.predict(x)\n",
    "        MSE += sum((prediction - y) ** 2)\n",
    "    return 1 - (MSE / (len(test_x) * output_size))\n",
    "    \n",
    "show_max = 10\n",
    "count = 0\n",
    "for (x, y) in zip(test_x, test_y):\n",
    "    pretty_print(x, y, net.predict(x))\n",
    "    count += 1\n",
    "    if (show_max == count):\n",
    "        break\n",
    "    \n",
    "\n",
    "s = success(test_x, test_y)\n",
    "print(\"Succ: \", s)\n",
    "print(\"Err:  \", 1 - s)\n"
   ]
  },
  {
   "cell_type": "markdown",
   "metadata": {},
   "source": [
    "## Learning v2\n",
    "Using scikit-learn MLPClassifier"
   ]
  },
  {
   "cell_type": "code",
   "execution_count": 73,
   "metadata": {
    "collapsed": false,
    "scrolled": true
   },
   "outputs": [
    {
     "name": "stdout",
     "output_type": "stream",
     "text": [
      "Iteration 1, loss = 1.79251277\n",
      "Iteration 2, loss = 0.89536161\n",
      "Iteration 3, loss = 0.69400944\n",
      "Iteration 4, loss = 0.59013757\n",
      "Iteration 5, loss = 0.53145103\n",
      "Iteration 6, loss = 0.39282658\n",
      "Iteration 7, loss = 0.27680614\n",
      "Iteration 8, loss = 0.21839029\n",
      "Iteration 9, loss = 0.18183369\n",
      "Iteration 10, loss = 0.15518783\n",
      "Iteration 11, loss = 0.13506991\n",
      "Iteration 12, loss = 0.11967076\n",
      "Iteration 13, loss = 0.10729951\n",
      "Iteration 14, loss = 0.09690538\n",
      "Iteration 15, loss = 0.08821293\n",
      "Iteration 16, loss = 0.08079194\n",
      "Iteration 17, loss = 0.07433134\n",
      "Iteration 18, loss = 0.06871712\n",
      "Iteration 19, loss = 0.06360801\n",
      "Iteration 20, loss = 0.05921353\n",
      "Iteration 21, loss = 0.05513534\n",
      "Iteration 22, loss = 0.05151831\n",
      "Iteration 23, loss = 0.04803677\n",
      "Iteration 24, loss = 0.04497245\n",
      "Iteration 25, loss = 0.04217005\n",
      "Iteration 26, loss = 0.03940517\n",
      "Iteration 27, loss = 0.03693245\n",
      "Iteration 28, loss = 0.03473545\n",
      "Iteration 29, loss = 0.03259987\n",
      "Iteration 30, loss = 0.03066488\n",
      "Iteration 31, loss = 0.02890746\n",
      "Iteration 32, loss = 0.02719890\n",
      "Iteration 33, loss = 0.02559485\n",
      "Iteration 34, loss = 0.02412738\n",
      "Iteration 35, loss = 0.02278447\n",
      "Iteration 36, loss = 0.02155637\n",
      "Iteration 37, loss = 0.02026344\n",
      "Iteration 38, loss = 0.01915568\n",
      "Iteration 39, loss = 0.01807123\n",
      "Iteration 40, loss = 0.01712751\n",
      "Iteration 41, loss = 0.01614284\n",
      "Iteration 42, loss = 0.01528973\n",
      "Iteration 43, loss = 0.01447362\n",
      "Iteration 44, loss = 0.01365895\n",
      "Iteration 45, loss = 0.01294702\n",
      "Iteration 46, loss = 0.01231245\n",
      "Iteration 47, loss = 0.01163586\n",
      "Iteration 48, loss = 0.01106367\n",
      "Iteration 49, loss = 0.01049752\n",
      "Iteration 50, loss = 0.00996346\n",
      "Iteration 51, loss = 0.00947652\n",
      "Iteration 52, loss = 0.00906868\n",
      "Iteration 53, loss = 0.00853209\n",
      "Iteration 54, loss = 0.00808469\n",
      "Iteration 55, loss = 0.00768720\n",
      "Iteration 56, loss = 0.00731803\n",
      "Iteration 57, loss = 0.00695971\n",
      "Iteration 58, loss = 0.00652241\n",
      "Iteration 59, loss = 0.00617893\n",
      "Iteration 60, loss = 0.00582105\n",
      "Iteration 61, loss = 0.00544858\n",
      "Iteration 62, loss = 0.00511084\n",
      "Iteration 63, loss = 0.00478915\n",
      "Iteration 64, loss = 0.00451988\n",
      "Iteration 65, loss = 0.00426843\n",
      "Iteration 66, loss = 0.00393747\n",
      "Iteration 67, loss = 0.00370503\n",
      "Iteration 68, loss = 0.00346759\n",
      "Iteration 69, loss = 0.00324975\n",
      "Iteration 70, loss = 0.00303668\n",
      "Iteration 71, loss = 0.00285109\n",
      "Iteration 72, loss = 0.00266159\n",
      "Iteration 73, loss = 0.00246868\n",
      "Iteration 74, loss = 0.00233342\n",
      "Iteration 75, loss = 0.00215497\n",
      "Iteration 76, loss = 0.00200481\n",
      "Iteration 77, loss = 0.00187977\n",
      "Iteration 78, loss = 0.00176322\n",
      "Iteration 79, loss = 0.00164871\n",
      "Iteration 80, loss = 0.00152441\n",
      "Iteration 81, loss = 0.00141644\n",
      "Iteration 82, loss = 0.00133304\n",
      "Iteration 83, loss = 0.00124033\n",
      "Iteration 84, loss = 0.00114957\n",
      "Iteration 85, loss = 0.00107141\n",
      "Iteration 86, loss = 0.00099157\n",
      "Iteration 87, loss = 0.00092893\n",
      "Iteration 88, loss = 0.00085842\n",
      "Iteration 89, loss = 0.00079952\n",
      "Iteration 90, loss = 0.00073894\n",
      "Iteration 91, loss = 0.00068651\n",
      "Iteration 92, loss = 0.00063723\n",
      "Iteration 93, loss = 0.00058909\n",
      "Iteration 94, loss = 0.00055043\n",
      "Iteration 95, loss = 0.00050993\n",
      "Iteration 96, loss = 0.00047158\n",
      "Iteration 97, loss = 0.00043773\n",
      "Iteration 98, loss = 0.00040530\n",
      "Iteration 99, loss = 0.00037574\n",
      "Iteration 100, loss = 0.00035004\n",
      "Iteration 101, loss = 0.00033090\n",
      "Iteration 102, loss = 0.00030186\n",
      "Iteration 103, loss = 0.00028011\n",
      "Iteration 104, loss = 0.00026323\n",
      "Iteration 105, loss = 0.00024628\n",
      "Iteration 106, loss = 0.00023051\n",
      "Iteration 107, loss = 0.00021388\n",
      "Iteration 108, loss = 0.00019920\n",
      "Iteration 109, loss = 0.00018571\n",
      "Iteration 110, loss = 0.00017321\n",
      "Iteration 111, loss = 0.00016225\n",
      "Iteration 112, loss = 0.00015262\n",
      "Iteration 113, loss = 0.00014267\n",
      "Iteration 114, loss = 0.00013396\n",
      "Training loss did not improve more than tol=0.000010 for two consecutive epochs. Stopping.\n",
      "Loss function:  log_loss\n",
      "Score:  0.98040192659\n"
     ]
    }
   ],
   "source": [
    "from sklearn import neural_network as nn\n",
    "clf = nn.MLPClassifier(hidden_layer_sizes=(8, ),\n",
    "                       activation='relu',\n",
    "                       solver='adam',\n",
    "                       alpha=0.00001,\n",
    "                       verbose=True,\n",
    "                       tol=0.00001,\n",
    "                       max_iter=300,\n",
    "                       learning_rate='constant',\n",
    "                       learning_rate_init=0.001)\n",
    "\n",
    "model = clf.fit(train_x, train_y)\n",
    "predictions = model.predict_proba(test_x)\n",
    "\n",
    "print(\"Loss function: \", model.loss)\n",
    "#print(\"Loss value: \", model.loss_)\n",
    "print(\"Score: \", model.score(test_x, test_y)) # score = mean accuracy on given data set\n"
   ]
  },
  {
   "cell_type": "code",
   "execution_count": 74,
   "metadata": {
    "collapsed": false
   },
   "outputs": [],
   "source": [
    "tolerance = 0.2\n",
    "\n",
    "def round_prediction(y):\n",
    "    result = []\n",
    "    for i in range(len(y)):\n",
    "        if (y[i] - tolerance <= 0):\n",
    "            result.append(0)\n",
    "        elif (y[i] + tolerance >= 1):\n",
    "            result.append(1)\n",
    "        else:\n",
    "            return np.zeros(len(y))\n",
    "    return result\n",
    "    \n",
    "rounded_predictions = np.copy(predictions)\n",
    "\n",
    "# Round predictions based on tolerance:\n",
    "for i in range(len(predictions)):\n",
    "    rounded_predictions[i] = round_prediction(predictions[i])\n"
   ]
  },
  {
   "cell_type": "code",
   "execution_count": 75,
   "metadata": {
    "collapsed": false
   },
   "outputs": [
    {
     "name": "stdout",
     "output_type": "stream",
     "text": [
      "Test for table (positive words): \n",
      "Score on table words:  1.0\n"
     ]
    }
   ],
   "source": [
    "print(\"Test for table (positive words): \")\n",
    "\n",
    "\n",
    "table_test_x = []\n",
    "table_test_y = []\n",
    "for i in range(len(table)):\n",
    "    table_test_x.append(table[i][0])\n",
    "    table_test_y.append(table[i][1])\n",
    "    \n",
    "table_test_x = np.array(table_test_x)\n",
    "table_test_y = np.array(table_test_y)\n",
    "\n",
    "\n",
    "print(\"Score on table words: \", model.score(table_test_x, table_test_y))\n"
   ]
  },
  {
   "cell_type": "code",
   "execution_count": 76,
   "metadata": {
    "collapsed": false,
    "scrolled": true
   },
   "outputs": [
    {
     "name": "stdout",
     "output_type": "stream",
     "text": [
      " WORD  ->  PREDICTED (first 20 words)\n",
      "=====================================\n",
      "  est  ->  es    [0 0 0 0]  ->  [0.0, 0.0, 0.967, 0.003]\n",
      "  est  ->  es    [0 0 0 0]  ->  [0.0, 0.0, 0.967, 0.003]\n",
      "  est  ->  es    [0 0 0 0]  ->  [0.0, 0.0, 0.967, 0.003]\n",
      "  est  ->  es    [0 0 0 0]  ->  [0.0, 0.0, 0.967, 0.003]\n",
      "error  ->  et    [0 0 0 0]  ->  [0.0, 0.0, 0.0, 0.947]\n",
      "  est  ->  es    [0 0 0 0]  ->  [0.0, 0.0, 0.967, 0.003]\n",
      "  est  ->  es    [0 0 0 0]  ->  [0.0, 0.0, 0.967, 0.003]\n",
      "  est  ->  es    [0 0 0 0]  ->  [0.0, 0.0, 0.967, 0.003]\n",
      "  est  ->  es    [0 0 0 0]  ->  [0.0, 0.0, 0.967, 0.003]\n",
      "  est  ->  es    [0 0 0 0]  ->  [0.0, 0.0, 0.967, 0.003]\n",
      "error  ->  et    [0 0 0 0]  ->  [0.0, 0.0, 0.0, 0.947]\n",
      "error  ->  et    [0 0 0 0]  ->  [0.0, 0.0, 0.0, 0.947]\n",
      "  est  ->  es    [0 0 0 0]  ->  [0.0, 0.0, 0.967, 0.003]\n",
      "  est  ->  es    [0 0 0 0]  ->  [0.0, 0.0, 0.967, 0.003]\n",
      "  est  ->  es    [0 0 0 0]  ->  [0.0, 0.0, 0.967, 0.003]\n",
      "  est  ->  es    [0 0 0 0]  ->  [0.0, 0.0, 0.967, 0.003]\n",
      "  est  ->  es    [0 0 0 0]  ->  [0.0, 0.0, 0.967, 0.003]\n",
      "  est  ->  es    [0 0 0 0]  ->  [0.0, 0.0, 0.967, 0.003]\n",
      "  est  ->  es    [0 0 0 0]  ->  [0.0, 0.0, 0.967, 0.003]\n",
      "  est  ->  es    [0 0 0 0]  ->  [0.0, 0.0, 0.967, 0.003]\n"
     ]
    }
   ],
   "source": [
    "print(\" WORD  ->  PREDICTED (first 20 words)\")\n",
    "print(\"=====================================\")\n",
    "\n",
    "mistakes = []\n",
    "\n",
    "printed = 0\n",
    "for i in range(len(test_x)):\n",
    "    if not np.array_equal(rounded_predictions[i], test_y[i]):\n",
    "        for j in range(len(table)):\n",
    "            predicted_word = \"\"\n",
    "            if (np.array_equal(table[j][1], rounded_predictions[i])):\n",
    "                predicted_word = table[j][2]\n",
    "                break\n",
    "        #print(test_y[i], predictions[i])\n",
    "        print(test_z[i].rjust(MAX_WORD_LENGHT), \" -> \", predicted_word, \"  \", test_y[i], \" -> \", [float(\"%.3f\" % value) for value in predictions[i]])\n",
    "        printed += 1\n",
    "    if (printed >= 20):\n",
    "        break"
   ]
  },
  {
   "cell_type": "code",
   "execution_count": 77,
   "metadata": {
    "collapsed": false
   },
   "outputs": [
    {
     "data": {
      "image/png": "[encoded data removed]",
      "text/plain": [
       "<matplotlib.figure.Figure at 0x2201de0e320>"
      ]
     },
     "metadata": {},
     "output_type": "display_data"
    }
   ],
   "source": [
    "import matplotlib.pyplot as plt\n",
    "%matplotlib inline\n",
    "plt.plot(model.loss_curve_)\n",
    "plt.show()"
   ]
  },
  {
   "cell_type": "code",
   "execution_count": null,
   "metadata": {
    "collapsed": true
   },
   "outputs": [],
   "source": []
  },
  {
   "cell_type": "code",
   "execution_count": null,
   "metadata": {
    "collapsed": true
   },
   "outputs": [],
   "source": []
  },
  {
   "cell_type": "code",
   "execution_count": null,
   "metadata": {
    "collapsed": true
   },
   "outputs": [],
   "source": []
  },
  {
   "cell_type": "code",
   "execution_count": null,
   "metadata": {
    "collapsed": true
   },
   "outputs": [],
   "source": []
  },
  {
   "cell_type": "code",
   "execution_count": null,
   "metadata": {
    "collapsed": true
   },
   "outputs": [],
   "source": []
  },
  {
   "cell_type": "code",
   "execution_count": null,
   "metadata": {
    "collapsed": true
   },
   "outputs": [],
   "source": []
  }
 ],
 "metadata": {
  "kernelspec": {
   "display_name": "Python 3",
   "language": "python",
   "name": "python3"
  },
  "language_info": {
   "codemirror_mode": {
    "name": "ipython",
    "version": 3
   },
   "file_extension": ".py",
   "mimetype": "text/x-python",
   "name": "python",
   "nbconvert_exporter": "python",
   "pygments_lexer": "ipython3",
   "version": "3.5.1"
  }
 },
 "nbformat": 4,
 "nbformat_minor": 0
}
