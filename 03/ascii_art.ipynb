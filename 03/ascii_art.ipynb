{
 "cells": [
  {
   "cell_type": "markdown",
   "metadata": {},
   "source": [
    "# ASCII ART"
   ]
  },
  {
   "cell_type": "code",
   "execution_count": 14,
   "metadata": {
    "collapsed": false
   },
   "outputs": [
    {
     "name": "stdout",
     "output_type": "stream",
     "text": [
      "(100, 100)\n"
     ]
    },
    {
     "data": {
      "text/plain": [
       "<matplotlib.image.AxesImage at 0x1a481e57eb8>"
      ]
     },
     "execution_count": 14,
     "metadata": {},
     "output_type": "execute_result"
    },
    {
     "data": {
      "image/png": "[encoded data removed]",
      "text/plain": [
       "<matplotlib.figure.Figure at 0x1a481bcfcf8>"
      ]
     },
     "metadata": {},
     "output_type": "display_data"
    }
   ],
   "source": [
    "%matplotlib inline\n",
    "import matplotlib.pyplot as plt\n",
    "import matplotlib.image as mpimg\n",
    "import numpy as np\n",
    "import colorsys\n",
    "import copy\n",
    "import time\n",
    "import sys\n",
    "from tqdm import tqdm\n",
    "from PIL import Image\n",
    "\n",
    "#img = Image.open('dragon_200.png')\n",
    "#img = Image.open('pattern.png')\n",
    "#img = Image.open('ghost_200.png')\n",
    "img = Image.open('ghost_100.png')\n",
    "img = img.convert('RGB')\n",
    "\n",
    "print(img.size)\n",
    "plt.imshow(img)"
   ]
  },
  {
   "cell_type": "code",
   "execution_count": 28,
   "metadata": {
    "collapsed": true
   },
   "outputs": [],
   "source": [
    "TILE_WIDTH = 5\n",
    "TILE_HEIGTH = 5\n",
    "\n",
    "class Tile:\n",
    "    def get_pixel(self, x, y):\n",
    "        return self.pixels[x][y]\n",
    "    \n",
    "    def __init__(self, pixels):\n",
    "        self.pixels = pixels\n",
    "        \n",
    "def tile_equals(tile1, tile2):\n",
    "    return np.array_equal(tile1.pixels.flatten(), tile2.pixels.flatten())\n"
   ]
  },
  {
   "cell_type": "code",
   "execution_count": 37,
   "metadata": {
    "collapsed": false
   },
   "outputs": [],
   "source": [
    "WIDTH = img.size[0]\n",
    "HEIGHT = img.size[1]\n",
    "\n",
    "assert(WIDTH % TILE_WIDTH == 0 and HEIGHT % TILE_HEIGTH == 0)\n",
    "\n",
    "tiles_x = WIDTH // TILE_WIDTH\n",
    "tiles_y = HEIGHT // TILE_HEIGTH\n",
    "\n",
    "def get_tiles_from_img(img):\n",
    "    img_data = np.array(img.getdata()).reshape(WIDTH, HEIGHT, 3) \n",
    "    print(\"Img data shape: \", img_data.shape)\n",
    "    \n",
    "    tiles = []\n",
    "    for x in range(tiles_x):\n",
    "        for y in range(tiles_y):\n",
    "            pixels = []\n",
    "            count = 0\n",
    "            for offset_x in range(TILE_WIDTH):\n",
    "                for offset_y in range(TILE_HEIGTH):\n",
    "                    rgb = img_data[x * TILE_WIDTH + offset_x][y * TILE_HEIGTH + offset_y]\n",
    "                    rgb = [x // 255 for x in rgb]\n",
    "                    assert(sum(rgb) == 0 or sum(rgb) == 3)\n",
    "                    if (sum(rgb) == 0):\n",
    "                        pixels.append(0)\n",
    "                    else:\n",
    "                        pixels.append(1)\n",
    "            tiles.append(Tile(np.array(pixels).reshape(TILE_WIDTH, TILE_HEIGTH)))\n",
    "                         \n",
    "    result = np.array(tiles)\n",
    "    print(\"Returns tiles of shape: \", result.shape)\n",
    "    return result"
   ]
  },
  {
   "cell_type": "code",
   "execution_count": 43,
   "metadata": {
    "collapsed": false
   },
   "outputs": [
    {
     "name": "stdout",
     "output_type": "stream",
     "text": [
      "Img data shape:  (100, 100, 3)\n",
      "Returns tiles of shape:  (400,)\n"
     ]
    }
   ],
   "source": [
    "tiles = get_tiles_from_img(img)"
   ]
  },
  {
   "cell_type": "code",
   "execution_count": null,
   "metadata": {
    "collapsed": true
   },
   "outputs": [],
   "source": []
  },
  {
   "cell_type": "code",
   "execution_count": null,
   "metadata": {
    "collapsed": true
   },
   "outputs": [],
   "source": []
  },
  {
   "cell_type": "code",
   "execution_count": null,
   "metadata": {
    "collapsed": true
   },
   "outputs": [],
   "source": []
  }
 ],
 "metadata": {
  "anaconda-cloud": {},
  "kernelspec": {
   "display_name": "Python 3",
   "language": "python",
   "name": "python2"
  },
  "language_info": {
   "codemirror_mode": {
    "name": "ipython",
    "version": 3
   },
   "file_extension": ".py",
   "mimetype": "text/x-python",
   "name": "python",
   "nbconvert_exporter": "python",
   "pygments_lexer": "ipython3",
   "version": "3.5.2"
  }
 },
 "nbformat": 4,
 "nbformat_minor": 1
}
