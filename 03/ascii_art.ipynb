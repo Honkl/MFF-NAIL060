{
 "cells": [
  {
   "cell_type": "markdown",
   "metadata": {},
   "source": [
    "# ASCII ART"
   ]
  },
  {
   "cell_type": "code",
   "execution_count": 1,
   "metadata": {
    "collapsed": false
   },
   "outputs": [
    {
     "name": "stdout",
     "output_type": "stream",
     "text": [
      "160000\n",
      "(400, 400)\n"
     ]
    },
    {
     "data": {
      "text/plain": [
       "<matplotlib.image.AxesImage at 0x21c7a09b320>"
      ]
     },
     "execution_count": 1,
     "metadata": {},
     "output_type": "execute_result"
    },
    {
     "data": {
      "image/png": "[encoded data removed]",
      "text/plain": [
       "<matplotlib.figure.Figure at 0x21c7721ac88>"
      ]
     },
     "metadata": {},
     "output_type": "display_data"
    }
   ],
   "source": [
    "%matplotlib inline\n",
    "import matplotlib.pyplot as plt\n",
    "import matplotlib.image as mpimg\n",
    "import numpy as np\n",
    "import colorsys\n",
    "import copy\n",
    "import time\n",
    "import sys\n",
    "import cv2\n",
    "from tqdm import tqdm\n",
    "from PIL import Image\n",
    "\n",
    "from sklearn import neural_network as nn\n",
    "\n",
    "#file_name = 'ghost_100.png'\n",
    "#file_name = 'ghost_200.png'\n",
    "file_name = 'ghost_400.png'\n",
    "\n",
    "img = cv2.imread(file_name, 0) # load grayscale\n",
    "img = cv2.threshold(img, 127, 1, cv2.THRESH_BINARY)[1]\n",
    "print(img.size)\n",
    "print(img.shape)\n",
    "plt.imshow(img, cmap='gray')"
   ]
  },
  {
   "cell_type": "code",
   "execution_count": 2,
   "metadata": {
    "collapsed": false,
    "scrolled": false
   },
   "outputs": [
    {
     "data": {
      "image/png": "[encoded data removed]",
      "text/plain": [
       "<matplotlib.figure.Figure at 0x21c7a109978>"
      ]
     },
     "metadata": {},
     "output_type": "display_data"
    }
   ],
   "source": [
    "train_set_length = 7\n",
    "\n",
    "def get_train_set():\n",
    "    train = [('empty.png', ' '),\n",
    "             ('slash.png', '/'),\n",
    "             ('backslash.png', '\\\\'),\n",
    "             ('roof.png', '^'),\n",
    "             ('o.png', 'O'),\n",
    "             ('underline.png', '_'),\n",
    "             ('pipe.png', '|')]\n",
    "    \n",
    "    train_set_length = len(train)\n",
    "    \n",
    "    result = []\n",
    "    \n",
    "    plt.figure(figsize=(12, 30))\n",
    "    for index, pattern in enumerate(train):\n",
    "        img = cv2.imread(pattern[0], 0) # load grayscale\n",
    "        img = cv2.threshold(img, 127, 1, cv2.THRESH_BINARY)[1]\n",
    "        plt.subplot(1, len(train), index + 1)\n",
    "        plt.imshow(img, interpolation='none', cmap='gray',  vmin=0, vmax=1)\n",
    "        plt.title(pattern[0].split('.')[0])\n",
    "        \n",
    "        onehot = [0] * len(train)\n",
    "        onehot[index] = 1\n",
    "        result.append((img, pattern[1], onehot))\n",
    "        \n",
    "    return result\n",
    "    \n",
    "train_set = get_train_set()"
   ]
  },
  {
   "cell_type": "code",
   "execution_count": 3,
   "metadata": {
    "collapsed": false
   },
   "outputs": [],
   "source": [
    "def get_tile_from_prob(onehot_probs):\n",
    "    i = np.argmax(onehot_probs)\n",
    "    return train_set[i][0]"
   ]
  },
  {
   "cell_type": "code",
   "execution_count": 4,
   "metadata": {
    "collapsed": true
   },
   "outputs": [],
   "source": [
    "TILE_WIDTH = 8\n",
    "TILE_HEIGTH = 16\n",
    "\n",
    "class Tile:\n",
    "\n",
    "    def __init__(self, pixels):\n",
    "        self.pixels = pixels\n",
    "    \n",
    "    def get_pixel(self, x, y):\n",
    "        return self.pixels[x][y]\n",
    "        \n",
    "    def flatten(self):\n",
    "        return np.array(self.pixels).flatten()\n",
    "        \n",
    "def tile_equals(tile1, tile2):\n",
    "    return np.array_equal(tile1.pixels.flatten(), tile2.pixels.flatten())\n"
   ]
  },
  {
   "cell_type": "code",
   "execution_count": 5,
   "metadata": {
    "collapsed": false
   },
   "outputs": [],
   "source": [
    "WIDTH = img.shape[1]\n",
    "HEIGHT = img.shape[0]\n",
    "\n",
    "assert(WIDTH % TILE_WIDTH == 0 and HEIGHT % TILE_HEIGTH == 0)\n",
    "\n",
    "tiles_x = WIDTH // TILE_WIDTH\n",
    "tiles_y = HEIGHT // TILE_HEIGTH\n",
    "\n",
    "def get_tiles_from_img(img):\n",
    "    tiles = []\n",
    "    for row in range(tiles_y):\n",
    "        for col in range(tiles_x):\n",
    "            tile_pixels = img[row * TILE_HEIGTH:(row + 1) * TILE_HEIGTH,\n",
    "                              col * TILE_WIDTH:(col + 1) * TILE_WIDTH]\n",
    "            tiles.append(Tile(np.array(tile_pixels)))\n",
    "                         \n",
    "    result = np.array(tiles)\n",
    "    print(\"Returns tiles of shape: \", result.shape)\n",
    "    return result"
   ]
  },
  {
   "cell_type": "code",
   "execution_count": 6,
   "metadata": {
    "collapsed": false,
    "scrolled": true
   },
   "outputs": [
    {
     "name": "stdout",
     "output_type": "stream",
     "text": [
      "Returns tiles of shape:  (1250,)\n"
     ]
    }
   ],
   "source": [
    "tiles = get_tiles_from_img(img)"
   ]
  },
  {
   "cell_type": "code",
   "execution_count": 7,
   "metadata": {
    "collapsed": false
   },
   "outputs": [],
   "source": [
    "def show_tiles(tiles):\n",
    "    reshaped_tiles = tiles.reshape(tiles_y, tiles_x)\n",
    "    pixels = np.empty([HEIGHT, WIDTH])\n",
    "    \n",
    "    for y in range(tiles_y):\n",
    "        for x in range(tiles_x):\n",
    "            tile = reshaped_tiles[y][x].pixels\n",
    "            pixels[np.ix_([*range(y * TILE_HEIGTH, (y+1) * TILE_HEIGTH)],\n",
    "                          [*range(x * TILE_WIDTH, (x+1) * TILE_WIDTH)])] = tile\n",
    "    \n",
    "    im = Image.fromarray(np.uint8(pixels))\n",
    "    \n",
    "    plt.figure(figsize=(16, 6))\n",
    "    plt.subplot(1,2,1)\n",
    "    plt.imshow(img, cmap='gray', interpolation='none')\n",
    "    plt.title('Original')\n",
    "    \n",
    "    plt.gca().axes.get_xaxis().set_ticks(np.arange(-0.5,HEIGHT-0.5,TILE_WIDTH))\n",
    "    plt.gca().axes.get_yaxis().set_ticks(np.arange(-0.5,WIDTH-0.5,TILE_HEIGTH))\n",
    "\n",
    "    plt.gca().axes.set_yticklabels([])\n",
    "    plt.gca().axes.set_xticklabels([])\n",
    "    plt.grid()\n",
    "    \n",
    "    \n",
    "    plt.subplot(1,2,2)\n",
    "    plt.imshow(im, interpolation='none', cmap='gray',  vmin=0, vmax=1)\n",
    "    plt.title('Predicted')\n",
    "    \n",
    "    plt.gca().axes.get_xaxis().set_ticks(np.arange(-0.5,HEIGHT-0.5,TILE_WIDTH))\n",
    "    plt.gca().axes.get_yaxis().set_ticks(np.arange(-0.5,WIDTH-0.5,TILE_HEIGTH))\n",
    "\n",
    "    plt.gca().axes.set_yticklabels([])\n",
    "    plt.gca().axes.set_xticklabels([])\n",
    "    plt.grid()\n"
   ]
  },
  {
   "cell_type": "code",
   "execution_count": 8,
   "metadata": {
    "collapsed": true
   },
   "outputs": [],
   "source": [
    "def predicted_to_tiles(predicted):\n",
    "    tiles = []\n",
    "    for pred in predicted:\n",
    "        predicted_tile_img = get_tile_from_prob(pred)\n",
    "        tiles.append(Tile(np.array(predicted_tile_img)))\n",
    "    return np.array(tiles)"
   ]
  },
  {
   "cell_type": "markdown",
   "metadata": {},
   "source": [
    "### Train"
   ]
  },
  {
   "cell_type": "code",
   "execution_count": 9,
   "metadata": {
    "collapsed": false,
    "scrolled": false
   },
   "outputs": [
    {
     "name": "stdout",
     "output_type": "stream",
     "text": [
      "Train x shape: (70, 128), Train y shape: (70, 7)\n",
      "Input shape: (1250, 128)\n"
     ]
    },
    {
     "name": "stderr",
     "output_type": "stream",
     "text": [
      "C:\\Anaconda2\\envs\\py3k\\lib\\site-packages\\sklearn\\neural_network\\multilayer_perceptron.py:563: ConvergenceWarning: Stochastic Optimizer: Maximum iterations reached and the optimization hasn't converged yet.\n",
      "  % (), ConvergenceWarning)\n"
     ]
    },
    {
     "name": "stdout",
     "output_type": "stream",
     "text": [
      "Predicted shape: (1250, 7)\n"
     ]
    },
    {
     "data": {
      "image/png": "[encoded data removed]",
      "text/plain": [
       "<matplotlib.figure.Figure at 0x21c73d9c898>"
      ]
     },
     "metadata": {},
     "output_type": "display_data"
    }
   ],
   "source": [
    "clf = nn.MLPClassifier(hidden_layer_sizes=(8),\n",
    "                           activation='relu',\n",
    "                           solver='adam',\n",
    "                           alpha=0.0001,\n",
    "                           shuffle=True,\n",
    "                           verbose=False,\n",
    "                           warm_start=False,\n",
    "                           tol=-1000,\n",
    "                           validation_fraction=0,\n",
    "                           max_iter=1000,\n",
    "                           learning_rate='constant',\n",
    "                           learning_rate_init=0.001)\n",
    "\n",
    "train_x = np.array([np.array(x[0]).flatten() for x in train_set])\n",
    "train_y = np.array([np.array(x[2]).flatten() for x in train_set])\n",
    "to_predict = np.array([t.flatten() for t in tiles])\n",
    "\n",
    "train_repeats = 10\n",
    "\n",
    "train_x = np.repeat(train_x, repeats=train_repeats, axis=0)\n",
    "train_y = np.repeat(train_y, repeats=train_repeats, axis=0)\n",
    "\n",
    "print(\"Train x shape: {}, Train y shape: {}\".format(train_x.shape, train_y.shape))\n",
    "print(\"Input shape: {}\".format(to_predict.shape))\n",
    "\n",
    "model = clf.fit(train_x, train_y)\n",
    "predicted = model.predict_proba(to_predict)\n",
    "\n",
    "print(\"Predicted shape: {}\".format(predicted.shape))\n",
    "\n",
    "predicted_tiles = predicted_to_tiles(predicted)\n",
    "show_tiles(predicted_tiles)"
   ]
  },
  {
   "cell_type": "code",
   "execution_count": null,
   "metadata": {
    "collapsed": true
   },
   "outputs": [],
   "source": []
  },
  {
   "cell_type": "code",
   "execution_count": null,
   "metadata": {
    "collapsed": true
   },
   "outputs": [],
   "source": []
  }
 ],
 "metadata": {
  "anaconda-cloud": {},
  "kernelspec": {
   "display_name": "Python 3",
   "language": "python",
   "name": "python3"
  },
  "language_info": {
   "codemirror_mode": {
    "name": "ipython",
    "version": 3
   },
   "file_extension": ".py",
   "mimetype": "text/x-python",
   "name": "python",
   "nbconvert_exporter": "python",
   "pygments_lexer": "ipython3",
   "version": "3.5.1"
  }
 },
 "nbformat": 4,
 "nbformat_minor": 1
}
